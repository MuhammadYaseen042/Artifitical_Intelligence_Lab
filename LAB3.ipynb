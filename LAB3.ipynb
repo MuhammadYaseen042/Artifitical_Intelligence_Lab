{
  "nbformat": 4,
  "nbformat_minor": 0,
  "metadata": {
    "colab": {
      "provenance": [],
      "authorship_tag": "ABX9TyMrdEQl7HZq4cm99DpugwE0",
      "include_colab_link": true
    },
    "kernelspec": {
      "name": "python3",
      "display_name": "Python 3"
    },
    "language_info": {
      "name": "python"
    }
  },
  "cells": [
    {
      "cell_type": "markdown",
      "metadata": {
        "id": "view-in-github",
        "colab_type": "text"
      },
      "source": [
        "<a href=\"https://colab.research.google.com/github/MuhammadYaseen042/Artifitical_Intelligence_Lab/blob/main/LAB3.ipynb\" target=\"_parent\"><img src=\"https://colab.research.google.com/assets/colab-badge.svg\" alt=\"Open In Colab\"/></a>"
      ]
    },
    {
      "cell_type": "code",
      "execution_count": 2,
      "metadata": {
        "colab": {
          "base_uri": "https://localhost:8080/",
          "height": 131
        },
        "id": "xDJmfsqnORG7",
        "outputId": "40d72e20-5828-4755-c7e9-1bd07a608638"
      },
      "outputs": [
        {
          "output_type": "error",
          "ename": "IndentationError",
          "evalue": "ignored",
          "traceback": [
            "\u001b[0;36m  File \u001b[0;32m\"<tokenize>\"\u001b[0;36m, line \u001b[0;32m8\u001b[0m\n\u001b[0;31m    graph = { 'A' :  Node('a' , None ,['B' , 'C' , 'E'] , None),\u001b[0m\n\u001b[0m    ^\u001b[0m\n\u001b[0;31mIndentationError\u001b[0m\u001b[0;31m:\u001b[0m unindent does not match any outer indentation level\n"
          ]
        }
      ],
      "source": [
        "#LAb 3 task ---- ---- Breath First approach\n",
        "class Node :\n",
        "    def __init__(self , state, parent, actions ,totalcost) :\n",
        "        self.state = state\n",
        "        self.parent = parent\n",
        "        self.actions = actions\n",
        "        self.totalcost = totalcost\n",
        "    \n",
        "    \n",
        "        graph = {\n",
        "             'A' :  Node('A' , None ,['B' , 'C' , 'E'] , None),\n",
        "             'B' :  Node('B' , None ,['A' , 'D' , 'E'] , None),\n",
        "             'C' :  Node('C' , None ,['A' , 'F' , 'G'] , None),\n",
        "              'D' :  Node('D' , None ,['B' ,'E'] , None),\n",
        "              'E' :  Node('E' , None ,['A' , 'B' , 'D'] , None),\n",
        "              'F' :  Node('F' , None ,[ 'C' ] , None),\n",
        "              'G' :  Node('G' , None ,['C'] , None)       \n",
        "        }\n",
        "def actionSequence(graph,initialstate,goalState):\n",
        "    solution = [goalstate]\n",
        "    currentparent = graph[goalstate].parent\n",
        "    while currentparent != None:\n",
        "            solution.append(currentparent)\n",
        "            currentparent = graph[currentparent].parent\n",
        "    solution.reverse()\n",
        "    return solution\n",
        "    \n",
        "                  \n",
        "def BFS ():\n",
        "    initialstate = 'D'\n",
        "    goalstate = 'F'\n",
        "    \n",
        "    graph = { 'A' :  Node('A' , None ,['B' , 'C' , 'E'] , None),\n",
        "             'B' :  Node('B' , None ,['A' , 'D' , 'E'] , None),\n",
        "             'C' :  Node('C' , None ,['A' , 'F' , 'G'] , None),\n",
        "              'D' :  Node('D' , None ,['B' ,'E'] , None),\n",
        "              'E' :  Node('E' , None ,['A' , 'B' , 'D'] , None),\n",
        "              'F' :  Node('F' , None ,[ 'C' ] , None),\n",
        "              'G' :  Node('G' , None ,['C'] , None)       \n",
        "        }\n",
        "    \n",
        "    frontier = [initialstate]\n",
        "    explored = []\n",
        "    while len (frontier) !=0 :\n",
        "        currentNode = frontier.pop(0)\n",
        "        explored.append(currentNode)\n",
        "        for child in graph[currentNode].actions :\n",
        "            if child not in frontier and child not in explored : \n",
        "                graph[child].parent = currentNode\n",
        "                if graph[child].state == goalstate:\n",
        "                     return actionSequence(graph,initialstate,goalState)\n",
        "            frontier.append(child)\n",
        "\n",
        "solution = BFS()\n",
        "print(solution)"
      ]
    }
  ]
}