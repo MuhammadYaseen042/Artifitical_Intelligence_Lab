{
 "cells": [
  {
   "cell_type": "code",
   "execution_count": null,
   "id": "93b29256",
   "metadata": {},
   "outputs": [],
   "source": [
    "# verifiy that the number is even or odd\n",
    "#take a number from a user\n",
    "number = input(\"ENter a number : \")\n",
    "#apply conditions to check\n",
    "if int(number)%2==0:\n",
    "    print(\"The number is an even number\" )\n",
    "else:\n",
    "    print(\"The number is an odd number\")\n",
    "#conditon closed"
   ]
  },
  {
   "cell_type": "code",
   "execution_count": null,
   "id": "330841e9",
   "metadata": {},
   "outputs": [],
   "source": [
    "#Program to accept integer value until user enter 0\n",
    "sum =0\n",
    "#user input\n",
    "value = input(\"Enter an integer value\")\n",
    "#parsing\n",
    "num = int(value)\n",
    "#condition\n",
    "while num!=0:\n",
    "    sum=sum+num\n",
    "    value = input(\"Please enter the integer  \")\n",
    "    num = int(value)\n",
    "print(\"The last value entered was \" , Sum)"
   ]
  },
  {
   "cell_type": "code",
   "execution_count": null,
   "id": "298856c5",
   "metadata": {},
   "outputs": [],
   "source": [
    "#checking the number is prime or not\n",
    "#booleean variable\n",
    "isprime = true\n",
    "#variable initiliazation\n",
    "num = 2\n",
    "#user input\n",
    "n = int(input(\"Enter a number\"))\n",
    "#condition\n",
    "while num< n\n",
    "    remainder = num%n\n",
    "    if(remainder == 0):\n",
    "        isprime = false\n",
    "        break\n",
    "    else:\n",
    "        num = num+1\n",
    "if isprime :\n",
    "    print(\"Number is prime\")\n",
    "else :\n",
    "    print(\"number is not prime\")\n",
    "        \n",
    "    \n"
   ]
  },
  {
   "cell_type": "code",
   "execution_count": null,
   "id": "4768e8c0",
   "metadata": {},
   "outputs": [],
   "source": [
    "#\n",
    "sumn = 0\n",
    "i = 0\n",
    "while i<=4\n",
    "    s = input(:enter a number)\n",
    "    n = int(s)\n",
    "    sum = sum+n\n",
    "    i = i+1\n",
    "print(\"sum is \",Num)"
   ]
  },
  {
   "cell_type": "code",
   "execution_count": null,
   "id": "dc7f3263",
   "metadata": {},
   "outputs": [],
   "source": [
    "summation = 0\n",
    "i = 1\n",
    "while i<=0\n",
    "    summation=summation+1\n",
    "    i=i+1\n",
    "    print(\"sum is \", summation)\n"
   ]
  },
  {
   "cell_type": "code",
   "execution_count": null,
   "id": "0c6828b5",
   "metadata": {},
   "outputs": [],
   "source": [
    "#user input a name \n",
    "name = input(\"enter your name\")\n",
    "print(\"hello\", name)\n",
    "occupation = input(\"enter a suitable job title for u\")\n",
    "print(\"you selected \",occupation,\"job\")\n",
    "salary = int(input(\"ENter thr ecpected\"))\n",
    "print(\"you entered : \"  salary)"
   ]
  },
  {
   "cell_type": "code",
   "execution_count": null,
   "id": "929e8580",
   "metadata": {},
   "outputs": [],
   "source": [
    "\n"
   ]
  }
 ],
 "metadata": {
  "kernelspec": {
   "display_name": "Python 3 (ipykernel)",
   "language": "python",
   "name": "python3"
  },
  "language_info": {
   "codemirror_mode": {
    "name": "ipython",
    "version": 3
   },
   "file_extension": ".py",
   "mimetype": "text/x-python",
   "name": "python",
   "nbconvert_exporter": "python",
   "pygments_lexer": "ipython3",
   "version": "3.10.0"
  }
 },
 "nbformat": 4,
 "nbformat_minor": 5
}
