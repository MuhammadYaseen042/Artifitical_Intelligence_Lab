{
  "nbformat": 4,
  "nbformat_minor": 0,
  "metadata": {
    "colab": {
      "provenance": [],
      "authorship_tag": "ABX9TyPQ4Pj3l6iags3DULlp6gtg",
      "include_colab_link": true
    },
    "kernelspec": {
      "name": "python3",
      "display_name": "Python 3"
    },
    "language_info": {
      "name": "python"
    }
  },
  "cells": [
    {
      "cell_type": "markdown",
      "metadata": {
        "id": "view-in-github",
        "colab_type": "text"
      },
      "source": [
        "<a href=\"https://colab.research.google.com/github/MuhammadYaseen042/Artifitical_Intelligence_Lab/blob/main/LAb5.ipynb\" target=\"_parent\"><img src=\"https://colab.research.google.com/assets/colab-badge.svg\" alt=\"Open In Colab\"/></a>"
      ]
    },
    {
      "cell_type": "code",
      "execution_count": null,
      "metadata": {
        "colab": {
          "base_uri": "https://localhost:8080/"
        },
        "id": "PRH-O7t-yFOO",
        "outputId": "7ff399a2-81ab-4a29-df9f-6ce94a728748"
      },
      "outputs": [
        {
          "output_type": "stream",
          "name": "stdout",
          "text": [
            "The path for this is::  0\n",
            "The path for this is::  0\n",
            "The path for this is::  1\n",
            "The path for this is::  2\n",
            "The path for this is::  0\n",
            "The path for this is::  1\n",
            "The path for this is::  3\n",
            "The path for this is::  4\n",
            "The path for this is::  2\n",
            "The path for this is::  5\n",
            "The path for this is::  6\n",
            "We found a Path!! \n"
          ]
        }
      ],
      "source": [
        "# Lab 5\n",
        "# Iterative Deepening Search\n",
        "graph = {'0':['1','2'], '1':['3','4'],'2':['5','6'],'3':[],'4':[],'5':[],'6':[]} # Initializing a graph\n",
        "#print(graph)\n",
        "def DFS(parent,destination,graph,depth):\n",
        "    print(\"The path for this is:: \",parent) # Travesing of tree\n",
        "    if parent==destination: # Checking whether it is reaching in 1st itteration to goal\n",
        "        return True\n",
        "    if depth<=0: # The limit setted was reached to its limit\n",
        "        return False\n",
        "    for childs in graph[parent]: # Traversing through childs of parents\n",
        "        if DFS(childs,destination,graph,depth-1):\n",
        "            return True\n",
        "    return False\n",
        "            # we will call the dfs function for th same functionallity\n",
        "        # but the parent will be replaced by child node as we are exploring it and depth will become -1 \n",
        "        # because we are traversing in depth.\n",
        "def IterativeDeep(parent,destination,graph,depth): # For IDS we will create this\n",
        "    for i in range(depth): # Travese depending on number of depths\n",
        "        if DFS(parent,destination,graph,i): # i will traverse from i to maxdepth i.e.0,1.2.3...n\n",
        "            return True\n",
        "    return False\n",
        "if not IterativeDeep('0','6',graph,4):\n",
        "    print(\"No path found!! \")\n",
        "else:\n",
        "    print(\"We found a Path!! \")"
      ]
    },
    {
      "cell_type": "code",
      "source": [
        "# Lab Task 1\n",
        "graph = {\n",
        "        'arad':['sibiu', 'zerind', 'timisoara'],\n",
        "        'sibiu':['oradea', 'fagaras', 'rimnicu'],\n",
        "        'zerind':['arad', 'oradea'],\n",
        "        'timisoara':['arad', 'lugoj'],\n",
        "        'oradea':['zerind', 'sibiu'],\n",
        "        'fagaras':['sibiu', 'bucharest'],\n",
        "        'lugoj':['timisoara', 'mehadia'],\n",
        "        'mehadia':['lugoj', 'drobeta'],\n",
        "        'drobeta':['mehadia', 'craiova'],\n",
        "        'craiova':['drobeta', 'riminica','pitesti'],\n",
        "        'riminica':['sibui', 'pitesti','craiova'],\n",
        "        'pitesti':['riminica', 'craiova','bucharest'],\n",
        "        'bucharest':['fagaras', 'pitesti','urziceni'],\n",
        "        'urziceni':['bucharest', 'hirsova','vaslui'],\n",
        "        'hirsova':['urziceni', 'eforie'],\n",
        "        'vaslui':['isai', 'urzicini'],\n",
        "        'eforie':['hirsova'],\n",
        "        'isai':['neamt', 'vaslui'],\n",
        "        'giurgui':['bucharest'],\n",
        "        'neamt':['isai']\n",
        "        }\n",
        "def DFS(parent,destination,graph,depth):\n",
        "    print(\"The path for this is:: \",parent) # Travesing of tree\n",
        "    if parent==destination: # Checking whether it is reaching in 1st itteration to goal\n",
        "        return True\n",
        "    if depth<=0: # The limit setted was reached to its limit\n",
        "        return False\n",
        "    for childs in graph[parent]: # Traversing through childs of parents\n",
        "        if DFS(childs,destination,graph,depth-1):\n",
        "            return True\n",
        "    return False\n",
        "            # we will call the dfs function for th same functionallity\n",
        "        # but the parent will be replaced by child node as we are exploring it and depth will become -1 \n",
        "        # because we are traversing in depth.\n",
        "def IterativeDeep(parent,destination,graph,depth): # For IDS we will create this\n",
        "    for i in range(depth): # Travese depending on number of depths\n",
        "        if DFS(parent,destination,graph,i): # i will traverse from i to maxdepth i.e.0,1.2.3...n\n",
        "            return True\n",
        "    return False\n",
        "if not IterativeDeep('arad','bucharest',graph,4):\n",
        "    print(\"No path found!! \")\n",
        "else:\n",
        "    print(\"We found a Path!! \")"
      ],
      "metadata": {
        "colab": {
          "base_uri": "https://localhost:8080/"
        },
        "id": "RfKa_-8gy90T",
        "outputId": "fc2e3759-529c-4dd1-95dc-d6e5844823d4"
      },
      "execution_count": null,
      "outputs": [
        {
          "output_type": "stream",
          "name": "stdout",
          "text": [
            "The path for this is::  arad\n",
            "The path for this is::  arad\n",
            "The path for this is::  sibiu\n",
            "The path for this is::  zerind\n",
            "The path for this is::  timisoara\n",
            "The path for this is::  arad\n",
            "The path for this is::  sibiu\n",
            "The path for this is::  oradea\n",
            "The path for this is::  fagaras\n",
            "The path for this is::  rimnicu\n",
            "The path for this is::  zerind\n",
            "The path for this is::  arad\n",
            "The path for this is::  oradea\n",
            "The path for this is::  timisoara\n",
            "The path for this is::  arad\n",
            "The path for this is::  lugoj\n",
            "The path for this is::  arad\n",
            "The path for this is::  sibiu\n",
            "The path for this is::  oradea\n",
            "The path for this is::  zerind\n",
            "The path for this is::  sibiu\n",
            "The path for this is::  fagaras\n",
            "The path for this is::  sibiu\n",
            "The path for this is::  bucharest\n",
            "We found a Path!! \n"
          ]
        }
      ]
    },
    {
      "cell_type": "code",
      "source": [
        "# Below lists detail all eight possible movements from a cell\n",
        "# (top, right, bottom, left, and four diagonal moves)\n",
        "row = [-1, -1, -1, 0, 1, 0, 1, 1]\n",
        "col = [-1, 1, 0, -1, -1, 1, 0, 1]\n",
        " \n",
        " \n",
        "# Function to check if it is safe to go to cell (x, y) from the current cell.\n",
        "# The function returns false if (x, y) is not valid matrix coordinates\n",
        "# or cell (x, y) is already processed.\n",
        "def isSafe(x, y, processed):\n",
        "    return (0 <= x < len(processed)) and (0 <= y < len(processed[0]))\\\n",
        "        and not processed[x][y]\n",
        " \n",
        " \n",
        "# A recursive function to generate all possible words in a boggle\n",
        "def searchBoggle(board, words, result, processed, i, j, path=''):\n",
        "    # mark the current node as processed\n",
        "    processed[i][j] = True\n",
        " \n",
        "    # update the path with the current character and insert it into the set\n",
        "    path += board[i][j]\n",
        " \n",
        "    # check whether the path is present in the input set\n",
        "    if path in words:\n",
        "        result.add(path)\n",
        " \n",
        "    # check for all eight possible movements from the current cell\n",
        "    for k in range(len(row)):\n",
        "        # skip if a cell is invalid, or it is already processed\n",
        "        if isSafe(i + row[k], j + col[k], processed):\n",
        "            searchBoggle(board, words, result, processed, i + row[k], j + col[k], path)\n",
        " \n",
        "    # backtrack: mark the current node as unprocessed\n",
        "    processed[i][j] = False\n",
        " \n",
        " \n",
        "def searchInBoggle(board, words):\n",
        " \n",
        "    # construct a set to store valid words constructed from the boggle\n",
        "    result = set()\n",
        " \n",
        "    # base case\n",
        "    if not board or not len(board):\n",
        "        return\n",
        " \n",
        "    # `M × N` board\n",
        "    (M, N) = (len(board), len(board[0]))\n",
        " \n",
        "    # construct a boolean matrix to store whether a cell is processed or not\n",
        "    processed = [[False for x in range(N)] for y in range(M)]\n",
        " \n",
        "    # generate all possible words in a boggle\n",
        "    for i in range(M):\n",
        "        for j in range(N):\n",
        "            # consider each character as a starting point and run DFS\n",
        "            searchBoggle(board, words, result, processed, i, j)\n",
        " \n",
        "    return result\n",
        " \n",
        " \n",
        "if  _name_  == '_main_':\n",
        " \n",
        "    board = [\n",
        "        ['M', 'S', 'E'],\n",
        "        ['R', 'A', 'T'],\n",
        "        ['L', 'O', 'N']\n",
        "    ]\n",
        " \n",
        "    words = ['START', 'NOTE', 'SAND', 'STONE']\n",
        " \n",
        "    validWords = searchInBoggle(board, words)\n",
        "    print(\"The Valid Words Are:: \")\n",
        "    print(validWords)"
      ],
      "metadata": {
        "colab": {
          "base_uri": "https://localhost:8080/",
          "height": 235
        },
        "id": "4jEgvtXVzLN5",
        "outputId": "8aa80637-d04c-422a-b3bb-929dc42b48ed"
      },
      "execution_count": null,
      "outputs": [
        {
          "output_type": "error",
          "ename": "NameError",
          "evalue": "ignored",
          "traceback": [
            "\u001b[0;31m---------------------------------------------------------------------------\u001b[0m",
            "\u001b[0;31mNameError\u001b[0m                                 Traceback (most recent call last)",
            "\u001b[0;32m<ipython-input-4-9552465f47cc>\u001b[0m in \u001b[0;36m<module>\u001b[0;34m\u001b[0m\n\u001b[1;32m     59\u001b[0m \u001b[0;34m\u001b[0m\u001b[0m\n\u001b[1;32m     60\u001b[0m \u001b[0;34m\u001b[0m\u001b[0m\n\u001b[0;32m---> 61\u001b[0;31m \u001b[0;32mif\u001b[0m \u001b[0m_name_\u001b[0m \u001b[0;34m==\u001b[0m \u001b[0;34m'_main_'\u001b[0m\u001b[0;34m:\u001b[0m\u001b[0;34m\u001b[0m\u001b[0;34m\u001b[0m\u001b[0m\n\u001b[0m\u001b[1;32m     62\u001b[0m \u001b[0;34m\u001b[0m\u001b[0m\n\u001b[1;32m     63\u001b[0m     board = [\n",
            "\u001b[0;31mNameError\u001b[0m: name '_name_' is not defined"
          ]
        }
      ]
    }
  ]
}