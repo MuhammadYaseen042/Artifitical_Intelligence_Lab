{
  "nbformat": 4,
  "nbformat_minor": 0,
  "metadata": {
    "colab": {
      "provenance": [],
      "authorship_tag": "ABX9TyPOuHwH2xPyrENWsWICBo5O",
      "include_colab_link": true
    },
    "kernelspec": {
      "name": "python3",
      "display_name": "Python 3"
    },
    "language_info": {
      "name": "python"
    }
  },
  "cells": [
    {
      "cell_type": "markdown",
      "metadata": {
        "id": "view-in-github",
        "colab_type": "text"
      },
      "source": [
        "<a href=\"https://colab.research.google.com/github/MuhammadYaseen042/Artifitical_Intelligence_Lab/blob/main/Artificialintelligencelab6.ipynb\" target=\"_parent\"><img src=\"https://colab.research.google.com/assets/colab-badge.svg\" alt=\"Open In Colab\"/></a>"
      ]
    },
    {
      "cell_type": "code",
      "execution_count": null,
      "metadata": {
        "id": "cOz82cvQhRy9"
      },
      "outputs": [],
      "source": [
        "import math\n",
        "from lib2to3.pytree import Node\n",
        "def UCS():\n",
        "    initialState ='C'\n",
        "    GoalState='B'\n",
        "    Graph={\n",
        "        'A': Node('A',None,[('B',6),('C', 9),('E',1)],0),\n",
        "        'B': Node('B',None,[('A',6),('D',3),('E',4)],0),\n",
        "        'C': Node('C',None,[('A',9),('A',9),('G',3),('F',2)],0),\n",
        "        'D': Node('D',None,[('B',3),('E',5),('F',7)],0),\n",
        "        'E': Node('E',None,[('A',1),('B',4),('D',5),('F',6)],0),\n",
        "        'F': Node('F',None,[('C',2),('D',7),('E',6)],0),\n",
        "        'G': Node('G',None,[('C',3)],0)\n",
        "    }\n",
        "    frontier=dict()\n",
        "    frontier[initialState]=(None,0)\n",
        "    explored=[]\n",
        "    def findMind(frontier):\n",
        "        minV=math.inf\n",
        "        node=''\n",
        "        for i in frontier:\n",
        "            if minV>frontier[i][1]:\n",
        "                minV=frontier[i][1]\n",
        "                node=i\n",
        "        return node\n",
        "\n",
        "def actionSequence(Graph,initialState,GoalState):\n",
        "  solution = [GoalState].parent\n",
        "  while currentNode.parent != None:\n",
        "    \n",
        "    solution.reverse()\n",
        "    return solution\n",
        "\n",
        "    while len(frontier)!=0:\n",
        "        currentNode=findMin(frontier)\n",
        "        del frontier[currentNode]\n",
        "        if Graph[currentNode].state==GoalState:\n",
        "            return actionSequence(Graph,initialState,GoalState)\n",
        "        explored.append(currentNode)\n",
        "        for child in Graph[currentNode].actions:\n",
        "            currentCost=child[1]+Graph[currentNode].totalCost\n",
        "            if child[0] not in frontier and child[0] not in explored:\n",
        "                Graph[child[0]].parent=currentNode\n",
        "                Graph[child[0]].totalCost=currentCost\n",
        "                frontier[child[0]]=(Graph[child[0]].parent,Graph[child[0]].totalCost)\n",
        "            elif child[0] in frontier:\n",
        "                if frontier[child[0]][1]<currentCost:\n",
        "                    Graph[child[0]].parent=frontier[child[0]][0]\n",
        "                    Graph[child[0]].totalCost=frontier[child[0]][1]\n",
        "                else:\n",
        "                    frontier[child[0]]=(currentNode,currentCost)\n",
        "                    Graph[child[0]].parent-frontier[child[0]][0]\n",
        "                    Graph[child[0]].totalCost=frontier[child[0]][1]"
      ]
    }
  ]
}